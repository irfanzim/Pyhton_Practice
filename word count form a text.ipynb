{
 "cells": [
  {
   "cell_type": "markdown",
   "id": "cacae379-79a1-476a-a1a2-f3b28cbd406e",
   "metadata": {},
   "source": [
    "Question:\n",
    "\n",
    "Write a function word_frequency(file_path) that reads a text file, counts the frequency of each word (case-insensitive), and returns a dictionary where keys are words and values are their frequencies. Punctuation should be ignored.\n",
    "\n",
    "Example: If a text file named my_text.txt contains \"Hello world! This is a test. Hello again.\", the function call word_frequency('my_text.txt') should return {'hello': 2, 'world': 1, 'this': 1, 'is': 1, 'a': 1, 'test': 1, 'again': 1}."
   ]
  }
 ],
 "metadata": {
  "kernelspec": {
   "display_name": "Python 3 (ipykernel)",
   "language": "python",
   "name": "python3"
  },
  "language_info": {
   "codemirror_mode": {
    "name": "ipython",
    "version": 3
   },
   "file_extension": ".py",
   "mimetype": "text/x-python",
   "name": "python",
   "nbconvert_exporter": "python",
   "pygments_lexer": "ipython3",
   "version": "3.10.11"
  }
 },
 "nbformat": 4,
 "nbformat_minor": 5
}
