{
 "cells": [
  {
   "cell_type": "markdown",
   "id": "021c795d-6415-46e6-a803-fab3f0496f38",
   "metadata": {},
   "source": [
    "Create a class called DataProcessor that is initialized with a list of numbers.\n",
    "\n",
    "The __init__ method should store the list as an instance attribute.\n",
    "\n",
    "Implement a method get_summary() that returns a dictionary containing the 'mean', 'median', and 'std_dev' (standard deviation) of the numbers. Use NumPy for the calculations.\n",
    "\n",
    "Implement a method get_outliers(threshold=2) that returns a list of numbers from the original list that are more than threshold standard deviations away from the mean."
   ]
  },
  {
   "cell_type": "code",
   "execution_count": 1,
   "id": "6d00b203-dc90-454f-a520-8ba0e8e0c47b",
   "metadata": {},
   "outputs": [
    {
     "ename": "SyntaxError",
     "evalue": "invalid syntax (2445112838.py, line 10)",
     "output_type": "error",
     "traceback": [
      "\u001b[1;36m  Cell \u001b[1;32mIn[1], line 10\u001b[1;36m\u001b[0m\n\u001b[1;33m    if.self.data.size==0:\u001b[0m\n\u001b[1;37m      ^\u001b[0m\n\u001b[1;31mSyntaxError\u001b[0m\u001b[1;31m:\u001b[0m invalid syntax\n"
     ]
    }
   ],
   "source": [
    "class dataprocessor:\n",
    "\n",
    "    #1. Initialize the processor\n",
    "    def __init__(self,list):\n",
    "\n",
    "        #2. create numpy array from list\n",
    "        self.data=np.array(list)\n",
    "\n",
    "        #3. Handle data if list contain no number\n",
    "        if self.data.size==0:\n",
    "            print(f\"List contain no numbers\")\n",
    "\n",
    "    def get_summary(self):\n",
    "\n",
    "        #4. Handle empty erray to avoid data warning\n",
    "        if self.data.size==0:\n",
    "            return (\"mean\":np.nan, \"median\":np.nan, \"std_dev\":np.nan)\n",
    "\n",
    "        mean_val=np.mean(self.data)\n",
    "        median_val=np.median(self.data)\n",
    "        std_val=np.std(self.data)\n",
    "\n",
    "        summary_dict={\n",
    "            \"mean\":mean_val,\n",
    "            \"median\":median_val,\n",
    "            \"std_dev\":std_val\n",
    "        }\n",
    "\n",
    "        return summary_dict\n",
    "\n",
    "    def get_outliers(self, threshold=2)\n",
    "        \n",
    "    "
   ]
  },
  {
   "cell_type": "code",
   "execution_count": null,
   "id": "e2d4878a-32ed-4710-8e63-5385876aa80d",
   "metadata": {},
   "outputs": [],
   "source": []
  }
 ],
 "metadata": {
  "kernelspec": {
   "display_name": "Python 3 (ipykernel)",
   "language": "python",
   "name": "python3"
  },
  "language_info": {
   "codemirror_mode": {
    "name": "ipython",
    "version": 3
   },
   "file_extension": ".py",
   "mimetype": "text/x-python",
   "name": "python",
   "nbconvert_exporter": "python",
   "pygments_lexer": "ipython3",
   "version": "3.10.11"
  }
 },
 "nbformat": 4,
 "nbformat_minor": 5
}
