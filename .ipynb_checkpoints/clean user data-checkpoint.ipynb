{
 "cells": [
  {
   "cell_type": "markdown",
   "id": "8613dc18-e7dc-4837-8434-a053a12b41f8",
   "metadata": {},
   "source": [
    "Question\n",
    "\n",
    "You are given a list of dictionaries representing user data. Write a function clean_data(user_list) that takes this list and performs the following actions:\n",
    "\n",
    "Removes any dictionary that is missing the 'user_id' key.\n",
    "\n",
    "Ensures the 'email' field exists; if not, adds it with a value of None.\n",
    "\n",
    "Converts the 'age' from a string to an integer.\n",
    "\n",
    "Returns the cleaned list."
   ]
  },
  {
   "cell_type": "code",
   "execution_count": 4,
   "id": "67045d25-6a19-4487-bda5-3efa32cc89e3",
   "metadata": {},
   "outputs": [],
   "source": [
    "users = [\n",
    "    {'user_id': '001', 'age': '25', 'email': 'a@a.com'},\n",
    "    {'user_id': '002', 'age': '31'},\n",
    "    {'age': '19', 'email': 'c@c.com'},\n",
    "    {'user_id': '004', 'age': '42', 'email': 'd@d.com'}\n",
    "]"
   ]
  },
  {
   "cell_type": "code",
   "execution_count": 3,
   "id": "d4a4d980-85c3-4d5b-a46b-ee6c3a41b327",
   "metadata": {},
   "outputs": [
    {
     "data": {
      "text/plain": [
       "[{'user_id': '001', 'age': 25, 'email': 'a@a.com'},\n",
       " {'user_id': '002', 'age': 31, 'email': None},\n",
       " {'user_id': '004', 'age': 42, 'email': 'd@d.com'}]"
      ]
     },
     "execution_count": 3,
     "metadata": {},
     "output_type": "execute_result"
    }
   ],
   "source": [
    "Expected Output:"
   ]
  },
  {
   "cell_type": "code",
   "execution_count": null,
   "id": "44a8cd77-d5c0-4953-96e9-d468f82d7c5f",
   "metadata": {},
   "outputs": [],
   "source": []
  },
  {
   "cell_type": "code",
   "execution_count": null,
   "id": "5ce52e28-9db4-4b58-8ea9-78ff3ee1c0a4",
   "metadata": {},
   "outputs": [],
   "source": []
  }
 ],
 "metadata": {
  "kernelspec": {
   "display_name": "Python 3 (ipykernel)",
   "language": "python",
   "name": "python3"
  },
  "language_info": {
   "codemirror_mode": {
    "name": "ipython",
    "version": 3
   },
   "file_extension": ".py",
   "mimetype": "text/x-python",
   "name": "python",
   "nbconvert_exporter": "python",
   "pygments_lexer": "ipython3",
   "version": "3.10.11"
  }
 },
 "nbformat": 4,
 "nbformat_minor": 5
}
