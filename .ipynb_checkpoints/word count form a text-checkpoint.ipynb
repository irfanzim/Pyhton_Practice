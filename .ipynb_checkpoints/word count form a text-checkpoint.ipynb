{
 "cells": [
  {
   "cell_type": "markdown",
   "id": "cacae379-79a1-476a-a1a2-f3b28cbd406e",
   "metadata": {},
   "source": [
    "Question:\n",
    "\n",
    "Write a function word_frequency(file_path) that reads a text file, counts the frequency of each word (case-insensitive), and returns a dictionary where keys are words and values are their frequencies. Punctuation should be ignored.\n",
    "\n",
    "Example: If a text file named my_text.txt contains \"Hello world! This is a test. Hello again.\", the function call word_frequency('my_text.txt') should return {'hello': 2, 'world': 1, 'this': 1, 'is': 1, 'a': 1, 'test': 1, 'again': 1}."
   ]
  },
  {
   "cell_type": "code",
   "execution_count": 11,
   "id": "1c99e6ff-d9e1-40a2-8e3d-e724ecc15cb7",
   "metadata": {},
   "outputs": [],
   "source": [
    "import string\n",
    "def word_frequency(file_path):\n",
    "    \"\"\"\n",
    "    Reads a text file, counts the frequency of each word (case-insensitive),\n",
    "    and returns a dictionary of frequencies. Punctuation is ignored.\n",
    "    \"\"\"\n",
    "    # 1. Create a translation table to remove all punctuation\n",
    "    # This maps every character in string.punctuation to None (removal)\n",
    "    translator=str.maketrans(\" \", \" \", string.punctuation)\n",
    "\n",
    "    #2. initiate an empty dictionary to store the count\n",
    "\n",
    "    word_counts={}\n",
    "\n",
    "    try:\n",
    "        #3. open the file in read mode\n",
    "        with open(file_path, \"r\") as f:\n",
    "            \n",
    "            #4. read the entire file, make it lower case, and remove punctuation\n",
    "            text=f.read().lower().translate(translator)\n",
    "\n",
    "            #5. split the text into words\n",
    "            words=text.split()\n",
    "\n",
    "            #6. loop through the list and count each word\n",
    "            for word in words:\n",
    "                if word in word_counts:\n",
    "                    word_counts[word]+=1\n",
    "                else:\n",
    "                    word_counts[word]=1\n",
    "                    \n",
    "        #7. return the word_counts dictionary\n",
    "        return word_counts\n",
    "\n",
    "    except FileNotFoundError:\n",
    "        print(f\"Error: The file {file_path} was not found\")\n",
    "        return {}\n",
    "    except Exception as e:\n",
    "        print(f\"An error occured, {e}\")\n",
    "        return {}"
   ]
  },
  {
   "cell_type": "code",
   "execution_count": 12,
   "id": "f59f752d-a8a2-478d-a8a3-60f72c5cd8b0",
   "metadata": {},
   "outputs": [
    {
     "data": {
      "text/plain": [
       "{'hello': 2, 'world': 1, 'this': 1, 'is': 1, 'a': 1, 'test': 1, 'again': 1}"
      ]
     },
     "execution_count": 12,
     "metadata": {},
     "output_type": "execute_result"
    }
   ],
   "source": [
    "word_frequency(\"my_text.txt\")"
   ]
  },
  {
   "cell_type": "markdown",
   "id": "0b8b2162-67cb-4d09-862e-162127363b66",
   "metadata": {},
   "source": [
    "# Solutions 2"
   ]
  },
  {
   "cell_type": "code",
   "execution_count": 4,
   "id": "c68aa87f-c701-4af8-8a57-8aa0fa57a223",
   "metadata": {},
   "outputs": [],
   "source": [
    "import string\n",
    "from collections import Counter\n",
    "\n",
    "def word_frequency_by_counter(file_path):\n",
    "    \n",
    "    try:\n",
    "        #1. open and read the file\n",
    "        with open(file_path,\"r\") as file:\n",
    "            content=file.read().lower()\n",
    "\n",
    "            #2. remove punctuation\n",
    "            translator=str.maketrans(\" \", \" \", string.punctuation)\n",
    "            cleaned_content=content.translate(translator)\n",
    "\n",
    "            #3. get separate words from the origial lines\n",
    "            words=cleaned_content.split()\n",
    "\n",
    "            #4. return using Counter function\n",
    "            return Counter(words)\n",
    "            \n",
    "    except FileNotFoundError:\n",
    "        print(f\"Error: The file {file_path} was not found\")\n",
    "        return {}\n",
    "            "
   ]
  },
  {
   "cell_type": "code",
   "execution_count": 5,
   "id": "b9dae576-d15f-4331-a363-29592d10a194",
   "metadata": {},
   "outputs": [
    {
     "data": {
      "text/plain": [
       "Counter({'hello': 2,\n",
       "         'world': 1,\n",
       "         'this': 1,\n",
       "         'is': 1,\n",
       "         'a': 1,\n",
       "         'test': 1,\n",
       "         'again': 1})"
      ]
     },
     "execution_count": 5,
     "metadata": {},
     "output_type": "execute_result"
    }
   ],
   "source": [
    "word_frequency_by_counter(\"my_text.txt\")"
   ]
  },
  {
   "cell_type": "code",
   "execution_count": null,
   "id": "5d4984af-8350-4ffc-9319-157875ffe03e",
   "metadata": {},
   "outputs": [],
   "source": []
  }
 ],
 "metadata": {
  "kernelspec": {
   "display_name": "Python 3 (ipykernel)",
   "language": "python",
   "name": "python3"
  },
  "language_info": {
   "codemirror_mode": {
    "name": "ipython",
    "version": 3
   },
   "file_extension": ".py",
   "mimetype": "text/x-python",
   "name": "python",
   "nbconvert_exporter": "python",
   "pygments_lexer": "ipython3",
   "version": "3.10.11"
  }
 },
 "nbformat": 4,
 "nbformat_minor": 5
}
