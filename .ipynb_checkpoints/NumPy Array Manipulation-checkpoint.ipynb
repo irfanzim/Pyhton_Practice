{
 "cells": [
  {
   "cell_type": "markdown",
   "id": "6dc67572-9b69-4aff-bebb-cd2fa5109170",
   "metadata": {},
   "source": [
    "Qustion:\n",
    "\n",
    "Write a function normalize_array(arr) that takes a 2D NumPy array and performs Z-score normalization on it. Z-score normalization is calculated as $Z = \\frac{X - \\mu}{\\sigma}$, where $\\mu$ is the mean of the array and $\\sigma$ is the standard deviation.The function should return the normalized array. Handle the case where the standard deviation is zero to avoid division by zero (in that case, return an array of zeros with the same shape as the input)."
   ]
  },
  {
   "cell_type": "code",
   "execution_count": 4,
   "id": "79906a87-d38b-4e5b-a081-ce141c68eab1",
   "metadata": {},
   "outputs": [],
   "source": [
    "import numpy as np\n",
    "arr1 = np.array([[1, 2, 3],\n",
    "                 [4, 5, 6]])"
   ]
  },
  {
   "cell_type": "code",
   "execution_count": 24,
   "id": "ccd51390-c612-48a3-9359-dfa530a05a19",
   "metadata": {},
   "outputs": [
    {
     "name": "stdout",
     "output_type": "stream",
     "text": [
      "The mean is 3.5\n",
      "The STD is 1.707825127659933\n",
      "the normalized array is [[-1.46385011 -0.87831007 -0.29277002]\n",
      " [ 0.29277002  0.87831007  1.46385011]]\n"
     ]
    }
   ],
   "source": [
    "Expected Output:"
   ]
  },
  {
   "cell_type": "code",
   "execution_count": null,
   "id": "3aa68306-255f-45f4-b73a-f72366e7a11e",
   "metadata": {},
   "outputs": [],
   "source": []
  }
 ],
 "metadata": {
  "kernelspec": {
   "display_name": "Python 3 (ipykernel)",
   "language": "python",
   "name": "python3"
  },
  "language_info": {
   "codemirror_mode": {
    "name": "ipython",
    "version": 3
   },
   "file_extension": ".py",
   "mimetype": "text/x-python",
   "name": "python",
   "nbconvert_exporter": "python",
   "pygments_lexer": "ipython3",
   "version": "3.10.11"
  }
 },
 "nbformat": 4,
 "nbformat_minor": 5
}
