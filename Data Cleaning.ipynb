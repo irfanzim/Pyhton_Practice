{
 "cells": [
  {
   "cell_type": "markdown",
   "id": "8613dc18-e7dc-4837-8434-a053a12b41f8",
   "metadata": {},
   "source": [
    "Question:1\n",
    "\n",
    "You are given a list of dictionaries representing user data. Write a function clean_data(user_list) that takes this list and performs the following actions:\n",
    "\n",
    "Removes any dictionary that is missing the 'user_id' key.\n",
    "\n",
    "Ensures the 'email' field exists; if not, adds it with a value of None.\n",
    "\n",
    "Converts the 'age' from a string to an integer.\n",
    "\n",
    "Returns the cleaned list."
   ]
  },
  {
   "cell_type": "code",
   "execution_count": 2,
   "id": "67045d25-6a19-4487-bda5-3efa32cc89e3",
   "metadata": {},
   "outputs": [],
   "source": [
    "users = [\n",
    "    {'user_id': '001', 'age': '25', 'email': 'a@a.com'},\n",
    "    {'user_id': '002', 'age': '31'},\n",
    "    {'age': '19', 'email': 'c@c.com'},\n",
    "    {'user_id': '004', 'age': '42', 'email': 'd@d.com'}\n",
    "]"
   ]
  },
  {
   "cell_type": "code",
   "execution_count": 10,
   "id": "7f4a8e7d-e0c7-4a27-9feb-a1c5f4ee4abc",
   "metadata": {},
   "outputs": [],
   "source": [
    "def cleaned_list (user_list):\n",
    "    cleaned_list=[]\n",
    "    for user in user_list:\n",
    "        if \"user_id\" in user:\n",
    "            if \"email\" not in user:\n",
    "                user[\"email\"]=None\n",
    "            user[\"age\"]=int(user[\"age\"])\n",
    "            cleaned_list.append(user)\n",
    "    return cleaned_list"
   ]
  },
  {
   "cell_type": "code",
   "execution_count": 11,
   "id": "d4a4d980-85c3-4d5b-a46b-ee6c3a41b327",
   "metadata": {},
   "outputs": [
    {
     "data": {
      "text/plain": [
       "[{'user_id': '001', 'age': 25, 'email': 'a@a.com'},\n",
       " {'user_id': '002', 'age': 31, 'email': None},\n",
       " {'user_id': '004', 'age': 42, 'email': 'd@d.com'}]"
      ]
     },
     "execution_count": 11,
     "metadata": {},
     "output_type": "execute_result"
    }
   ],
   "source": [
    "cleaned_list(users)"
   ]
  },
  {
   "cell_type": "code",
   "execution_count": null,
   "id": "714c0237-0b28-4484-9ac6-3c48fd87a4d3",
   "metadata": {},
   "outputs": [],
   "source": []
  }
 ],
 "metadata": {
  "kernelspec": {
   "display_name": "Python 3 (ipykernel)",
   "language": "python",
   "name": "python3"
  },
  "language_info": {
   "codemirror_mode": {
    "name": "ipython",
    "version": 3
   },
   "file_extension": ".py",
   "mimetype": "text/x-python",
   "name": "python",
   "nbconvert_exporter": "python",
   "pygments_lexer": "ipython3",
   "version": "3.10.11"
  }
 },
 "nbformat": 4,
 "nbformat_minor": 5
}
