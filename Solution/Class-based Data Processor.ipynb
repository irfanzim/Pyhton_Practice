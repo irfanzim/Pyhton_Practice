{
 "cells": [
  {
   "cell_type": "markdown",
   "id": "021c795d-6415-46e6-a803-fab3f0496f38",
   "metadata": {},
   "source": [
    "Create a class called DataProcessor that is initialized with a list of numbers.\n",
    "\n",
    "The __init__ method should store the list as an instance attribute.\n",
    "\n",
    "Implement a method get_summary() that returns a dictionary containing the 'mean', 'median', and 'std_dev' (standard deviation) of the numbers. Use NumPy for the calculations.\n",
    "\n",
    "Implement a method get_outliers(threshold=2) that returns a list of numbers from the original list that are more than threshold standard deviations away from the mean."
   ]
  },
  {
   "cell_type": "code",
   "execution_count": 15,
   "id": "17cc93f7-c93f-4846-ad97-ec7d0042b991",
   "metadata": {},
   "outputs": [],
   "source": [
    "import numpy as np\n",
    "class DataProcessor:\n",
    "    def __init__(self,mlist):\n",
    "        self.mlist=DataProcessor(mlist)\n",
    "\n",
    "    def get_summary(self):\n",
    "        mean=np.mean(self.mlist)\n",
    "        median=np.median(self.mlist)\n",
    "        std_dev=np.std(self.mlist)\n",
    "        summary_dict={\"mean\":mean,\"median\":median,\"std_dev\":std_dev}\n",
    "        return summary_dict\n",
    "        \n",
    "        \n",
    "    "
   ]
  },
  {
   "cell_type": "code",
   "execution_count": 18,
   "id": "5dc750ed-3db3-4f3c-a1ff-9c07e1ca27c2",
   "metadata": {},
   "outputs": [
    {
     "ename": "RecursionError",
     "evalue": "maximum recursion depth exceeded while calling a Python object",
     "output_type": "error",
     "traceback": [
      "\u001b[1;31m---------------------------------------------------------------------------\u001b[0m",
      "\u001b[1;31mRecursionError\u001b[0m                            Traceback (most recent call last)",
      "Cell \u001b[1;32mIn[18], line 2\u001b[0m\n\u001b[0;32m      1\u001b[0m data\u001b[38;5;241m=\u001b[39m[\u001b[38;5;241m1\u001b[39m,\u001b[38;5;241m2\u001b[39m,\u001b[38;5;241m3\u001b[39m,\u001b[38;5;241m4\u001b[39m,\u001b[38;5;241m5\u001b[39m,\u001b[38;5;241m6\u001b[39m,\u001b[38;5;241m7\u001b[39m,\u001b[38;5;241m8\u001b[39m,\u001b[38;5;241m9\u001b[39m,\u001b[38;5;241m10\u001b[39m,\u001b[38;5;241m50\u001b[39m]\n\u001b[1;32m----> 2\u001b[0m processor\u001b[38;5;241m=\u001b[39m\u001b[43mDataProcessor\u001b[49m\u001b[43m(\u001b[49m\u001b[43mdata\u001b[49m\u001b[43m)\u001b[49m\n",
      "Cell \u001b[1;32mIn[15], line 4\u001b[0m, in \u001b[0;36mDataProcessor.__init__\u001b[1;34m(self, mlist)\u001b[0m\n\u001b[0;32m      3\u001b[0m \u001b[38;5;28;01mdef\u001b[39;00m\u001b[38;5;250m \u001b[39m\u001b[38;5;21m__init__\u001b[39m(\u001b[38;5;28mself\u001b[39m,mlist):\n\u001b[1;32m----> 4\u001b[0m     \u001b[38;5;28mself\u001b[39m\u001b[38;5;241m.\u001b[39mmlist\u001b[38;5;241m=\u001b[39m\u001b[43mDataProcessor\u001b[49m\u001b[43m(\u001b[49m\u001b[43mmlist\u001b[49m\u001b[43m)\u001b[49m\n",
      "Cell \u001b[1;32mIn[15], line 4\u001b[0m, in \u001b[0;36mDataProcessor.__init__\u001b[1;34m(self, mlist)\u001b[0m\n\u001b[0;32m      3\u001b[0m \u001b[38;5;28;01mdef\u001b[39;00m\u001b[38;5;250m \u001b[39m\u001b[38;5;21m__init__\u001b[39m(\u001b[38;5;28mself\u001b[39m,mlist):\n\u001b[1;32m----> 4\u001b[0m     \u001b[38;5;28mself\u001b[39m\u001b[38;5;241m.\u001b[39mmlist\u001b[38;5;241m=\u001b[39m\u001b[43mDataProcessor\u001b[49m\u001b[43m(\u001b[49m\u001b[43mmlist\u001b[49m\u001b[43m)\u001b[49m\n",
      "    \u001b[1;31m[... skipping similar frames: DataProcessor.__init__ at line 4 (1483 times)]\u001b[0m\n",
      "Cell \u001b[1;32mIn[15], line 4\u001b[0m, in \u001b[0;36mDataProcessor.__init__\u001b[1;34m(self, mlist)\u001b[0m\n\u001b[0;32m      3\u001b[0m \u001b[38;5;28;01mdef\u001b[39;00m\u001b[38;5;250m \u001b[39m\u001b[38;5;21m__init__\u001b[39m(\u001b[38;5;28mself\u001b[39m,mlist):\n\u001b[1;32m----> 4\u001b[0m     \u001b[38;5;28mself\u001b[39m\u001b[38;5;241m.\u001b[39mmlist\u001b[38;5;241m=\u001b[39m\u001b[43mDataProcessor\u001b[49m\u001b[43m(\u001b[49m\u001b[43mmlist\u001b[49m\u001b[43m)\u001b[49m\n",
      "\u001b[1;31mRecursionError\u001b[0m: maximum recursion depth exceeded while calling a Python object"
     ]
    }
   ],
   "source": [
    "data=[1,2,3,4,5,6,7,8,9,10,50]\n",
    "processor=DataProcessor(data)"
   ]
  },
  {
   "cell_type": "code",
   "execution_count": null,
   "id": "1da672b2-9aa0-4e08-aed2-98230622f959",
   "metadata": {},
   "outputs": [],
   "source": []
  }
 ],
 "metadata": {
  "kernelspec": {
   "display_name": "Python 3 (ipykernel)",
   "language": "python",
   "name": "python3"
  },
  "language_info": {
   "codemirror_mode": {
    "name": "ipython",
    "version": 3
   },
   "file_extension": ".py",
   "mimetype": "text/x-python",
   "name": "python",
   "nbconvert_exporter": "python",
   "pygments_lexer": "ipython3",
   "version": "3.10.11"
  }
 },
 "nbformat": 4,
 "nbformat_minor": 5
}
