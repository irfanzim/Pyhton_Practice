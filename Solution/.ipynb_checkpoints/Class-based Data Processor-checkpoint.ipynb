{
 "cells": [
  {
   "cell_type": "markdown",
   "id": "021c795d-6415-46e6-a803-fab3f0496f38",
   "metadata": {},
   "source": [
    "Create a class called DataProcessor that is initialized with a list of numbers.\n",
    "\n",
    "The __init__ method should store the list as an instance attribute.\n",
    "\n",
    "Implement a method get_summary() that returns a dictionary containing the 'mean', 'median', and 'std_dev' (standard deviation) of the numbers. Use NumPy for the calculations.\n",
    "\n",
    "Implement a method get_outliers(threshold=2) that returns a list of numbers from the original list that are more than threshold standard deviations away from the mean."
   ]
  },
  {
   "cell_type": "code",
   "execution_count": 1,
   "id": "6d00b203-dc90-454f-a520-8ba0e8e0c47b",
   "metadata": {},
   "outputs": [],
   "source": [
    "import numpy as np\n",
    "class Dataprocessor:\n",
    "\n",
    "    #1. Initialize the processor\n",
    "    def __init__(self,list):\n",
    "\n",
    "        #2. create numpy array from list\n",
    "        self.data=np.array(list)\n",
    "\n",
    "        #3. Handle data if list contain no number\n",
    "        if self.data.size==0:\n",
    "            print(f\"List contain no numbers\")\n",
    "\n",
    "    #4. create get_summary function\n",
    "    def get_summary(self):\n",
    "\n",
    "        #5. Handle empty erray to avoid data warning\n",
    "        if self.data.size==0:\n",
    "            return {\"mean\":np.nan, \"median\":np.nan, \"std_dev\":np.nan}\n",
    "\n",
    "        #6. calculate values\n",
    "        mean_val=np.mean(self.data)\n",
    "        median_val=np.median(self.data)\n",
    "        std_val=np.std(self.data)\n",
    "\n",
    "        #7. create summary dictionary\n",
    "\n",
    "        summary_dict={\n",
    "            \"mean\":mean_val,\n",
    "            \"median\":median_val,\n",
    "            \"std_dev\":std_val\n",
    "        }\n",
    "\n",
    "        return summary_dict\n",
    "\n",
    "    def get_outliers(self, threshold=2):\n",
    "\n",
    "        #8. Handle list without numbers\n",
    "        if self.data.size==0:\n",
    "            return []\n",
    "\n",
    "        #9. get mean and std_dev\n",
    "        mean=np.mean(self.data)\n",
    "        std_dev=np.std(self.data)\n",
    "\n",
    "        #10. Handle data if std_dev is zero\n",
    "\n",
    "        if std_dev==0:\n",
    "            return []\n",
    "\n",
    "        #11. get z-score to find outliers\n",
    "\n",
    "        z_score=(self.data-mean)/std_dev\n",
    "\n",
    "        #12. now create a boolean mask using the threshold\n",
    "\n",
    "        outliers_mask=np.abs(z_score)>threshold\n",
    "\n",
    "        #13. select outliers from outlier_mask\n",
    "\n",
    "        outliers=self.data[outliers_mask]\n",
    "\n",
    "        return outliers.tolist()\n",
    "        \n",
    "    "
   ]
  },
  {
   "cell_type": "code",
   "execution_count": 2,
   "id": "e2d4878a-32ed-4710-8e63-5385876aa80d",
   "metadata": {},
   "outputs": [],
   "source": [
    "sample_data = [1, 2, 3, 4, 5, 6, 7, 8, 9, 10, 50]"
   ]
  },
  {
   "cell_type": "code",
   "execution_count": 3,
   "id": "78cf7fee-2f66-4776-8f60-165916035ff9",
   "metadata": {},
   "outputs": [],
   "source": [
    "processor=Dataprocessor(sample_data)"
   ]
  },
  {
   "cell_type": "code",
   "execution_count": 4,
   "id": "86756f4c-ae0e-413f-ac5a-ec6ebcb67e87",
   "metadata": {},
   "outputs": [],
   "source": [
    "summary=processor.get_summary()"
   ]
  },
  {
   "cell_type": "code",
   "execution_count": 5,
   "id": "08733029-ff5f-4bfa-920b-738f77f8ff0c",
   "metadata": {},
   "outputs": [
    {
     "name": "stdout",
     "output_type": "stream",
     "text": [
      "{'mean': np.float64(9.545454545454545), 'median': np.float64(6.0), 'std_dev': np.float64(13.082699445962534)}\n"
     ]
    }
   ],
   "source": [
    "print(summary)"
   ]
  },
  {
   "cell_type": "code",
   "execution_count": 6,
   "id": "41fe09da-42e7-4904-8b82-6826341adea0",
   "metadata": {},
   "outputs": [],
   "source": [
    "outlier=processor.get_outliers()"
   ]
  },
  {
   "cell_type": "code",
   "execution_count": 36,
   "id": "0d11f799-0d9f-42de-88e9-25cf87eddfe0",
   "metadata": {},
   "outputs": [
    {
     "name": "stdout",
     "output_type": "stream",
     "text": [
      "[50]\n"
     ]
    }
   ],
   "source": [
    "print(outlier)"
   ]
  }
 ],
 "metadata": {
  "kernelspec": {
   "display_name": "Python 3 (ipykernel)",
   "language": "python",
   "name": "python3"
  },
  "language_info": {
   "codemirror_mode": {
    "name": "ipython",
    "version": 3
   },
   "file_extension": ".py",
   "mimetype": "text/x-python",
   "name": "python",
   "nbconvert_exporter": "python",
   "pygments_lexer": "ipython3",
   "version": "3.10.11"
  }
 },
 "nbformat": 4,
 "nbformat_minor": 5
}
