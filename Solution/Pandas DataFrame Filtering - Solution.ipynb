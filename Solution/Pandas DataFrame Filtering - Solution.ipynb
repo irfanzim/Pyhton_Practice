{
 "cells": [
  {
   "cell_type": "markdown",
   "id": "fa3693e1-5da4-44e0-992e-575cf2ad5e4e",
   "metadata": {},
   "source": [
    "Given the DataFrame below, write a function filter_sales(df) that returns a new DataFrame containing only the sales records where the quantity is greater than 10 AND the product is either 'A' or 'C'."
   ]
  },
  {
   "cell_type": "code",
   "execution_count": 1,
   "id": "f9dd8eb9-59cc-4930-b933-01c4a68562ab",
   "metadata": {},
   "outputs": [],
   "source": [
    "import pandas as pd\n",
    "data = {'product': ['A', 'B', 'A', 'C', 'B', 'C', 'A'],\n",
    "        'quantity': [12, 8, 15, 5, 11, 20, 9],\n",
    "        'price': [100, 150, 100, 200, 150, 200, 100]}\n",
    "sales_df = pd.DataFrame(data)"
   ]
  },
  {
   "cell_type": "code",
   "execution_count": 18,
   "id": "5d840553-aeab-4580-994c-56eba477c7e4",
   "metadata": {},
   "outputs": [],
   "source": [
    "def filter_sale(df):\n",
    "    #1. get data where quantity is greater than 10\n",
    "    condition_quantity = df['quantity'] > 10\n",
    "\n",
    "    #2. get data where product is only A or C\n",
    "    condition_product=df[\"product\"].isin([\"A\",\"C\"])\n",
    "\n",
    "    #3. merge this two condition\n",
    "    condition_merged=condition_quantity & condition_product\n",
    "\n",
    "    return df[condition_merged]"
   ]
  },
  {
   "cell_type": "code",
   "execution_count": 19,
   "id": "3c812a12-b54e-4206-bac7-6fe437ff5fa5",
   "metadata": {},
   "outputs": [
    {
     "data": {
      "text/html": [
       "<div>\n",
       "<style scoped>\n",
       "    .dataframe tbody tr th:only-of-type {\n",
       "        vertical-align: middle;\n",
       "    }\n",
       "\n",
       "    .dataframe tbody tr th {\n",
       "        vertical-align: top;\n",
       "    }\n",
       "\n",
       "    .dataframe thead th {\n",
       "        text-align: right;\n",
       "    }\n",
       "</style>\n",
       "<table border=\"1\" class=\"dataframe\">\n",
       "  <thead>\n",
       "    <tr style=\"text-align: right;\">\n",
       "      <th></th>\n",
       "      <th>product</th>\n",
       "      <th>quantity</th>\n",
       "      <th>price</th>\n",
       "    </tr>\n",
       "  </thead>\n",
       "  <tbody>\n",
       "    <tr>\n",
       "      <th>0</th>\n",
       "      <td>A</td>\n",
       "      <td>12</td>\n",
       "      <td>100</td>\n",
       "    </tr>\n",
       "    <tr>\n",
       "      <th>2</th>\n",
       "      <td>A</td>\n",
       "      <td>15</td>\n",
       "      <td>100</td>\n",
       "    </tr>\n",
       "    <tr>\n",
       "      <th>5</th>\n",
       "      <td>C</td>\n",
       "      <td>20</td>\n",
       "      <td>200</td>\n",
       "    </tr>\n",
       "  </tbody>\n",
       "</table>\n",
       "</div>"
      ],
      "text/plain": [
       "  product  quantity  price\n",
       "0       A        12    100\n",
       "2       A        15    100\n",
       "5       C        20    200"
      ]
     },
     "execution_count": 19,
     "metadata": {},
     "output_type": "execute_result"
    }
   ],
   "source": [
    "filter_sale(sales_df)"
   ]
  },
  {
   "cell_type": "code",
   "execution_count": null,
   "id": "36841d78-33bc-49c6-9ccd-98e9e1bab399",
   "metadata": {},
   "outputs": [],
   "source": []
  }
 ],
 "metadata": {
  "kernelspec": {
   "display_name": "Python 3 (ipykernel)",
   "language": "python",
   "name": "python3"
  },
  "language_info": {
   "codemirror_mode": {
    "name": "ipython",
    "version": 3
   },
   "file_extension": ".py",
   "mimetype": "text/x-python",
   "name": "python",
   "nbconvert_exporter": "python",
   "pygments_lexer": "ipython3",
   "version": "3.10.11"
  }
 },
 "nbformat": 4,
 "nbformat_minor": 5
}
