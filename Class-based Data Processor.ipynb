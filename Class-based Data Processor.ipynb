{
 "cells": [
  {
   "cell_type": "markdown",
   "id": "021c795d-6415-46e6-a803-fab3f0496f38",
   "metadata": {},
   "source": [
    "Create a class called DataProcessor that is initialized with a list of numbers.\n",
    "\n",
    "The __init__ method should store the list as an instance attribute.\n",
    "\n",
    "Implement a method get_summary() that returns a dictionary containing the 'mean', 'median', and 'std_dev' (standard deviation) of the numbers. Use NumPy for the calculations.\n",
    "\n",
    "Implement a method get_outliers(threshold=2) that returns a list of numbers from the original list that are more than threshold standard deviations away from the mean."
   ]
  },
  {
   "cell_type": "code",
   "execution_count": 19,
   "id": "17cc93f7-c93f-4846-ad97-ec7d0042b991",
   "metadata": {},
   "outputs": [],
   "source": [
    "import numpy as np\n",
    "class DataProcessor:\n",
    "    def __init__(self,mlist):\n",
    "        self.data=mlist\n",
    "\n",
    "    def get_summary(self):\n",
    "        mean=np.mean(self.data)\n",
    "        median=np.median(self.data)\n",
    "        std_dev=np.std(self.data)\n",
    "        summary_dict={\"mean\":mean,\"median\":median,\"std_dev\":std_dev}\n",
    "        return summary_dict\n",
    "        \n",
    "        \n",
    "    "
   ]
  },
  {
   "cell_type": "code",
   "execution_count": 20,
   "id": "5dc750ed-3db3-4f3c-a1ff-9c07e1ca27c2",
   "metadata": {},
   "outputs": [],
   "source": [
    "data=[1,2,3,4,5,6,7,8,9,10,50]\n",
    "processor=DataProcessor(data)\n",
    "summary=processor.get_summary()\n"
   ]
  },
  {
   "cell_type": "code",
   "execution_count": 21,
   "id": "1da672b2-9aa0-4e08-aed2-98230622f959",
   "metadata": {},
   "outputs": [
    {
     "name": "stdout",
     "output_type": "stream",
     "text": [
      "{'mean': np.float64(9.545454545454545), 'median': np.float64(6.0), 'std_dev': np.float64(13.082699445962534)}\n"
     ]
    }
   ],
   "source": [
    "print(summary)"
   ]
  },
  {
   "cell_type": "code",
   "execution_count": null,
   "id": "58932f3e-e59f-43bb-8bd2-a02ec5343cea",
   "metadata": {},
   "outputs": [],
   "source": []
  }
 ],
 "metadata": {
  "kernelspec": {
   "display_name": "Python 3 (ipykernel)",
   "language": "python",
   "name": "python3"
  },
  "language_info": {
   "codemirror_mode": {
    "name": "ipython",
    "version": 3
   },
   "file_extension": ".py",
   "mimetype": "text/x-python",
   "name": "python",
   "nbconvert_exporter": "python",
   "pygments_lexer": "ipython3",
   "version": "3.10.11"
  }
 },
 "nbformat": 4,
 "nbformat_minor": 5
}
